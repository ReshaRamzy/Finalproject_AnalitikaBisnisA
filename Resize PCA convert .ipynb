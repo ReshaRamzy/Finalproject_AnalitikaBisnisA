{
 "cells": [
  {
   "cell_type": "code",
   "execution_count": 1,
   "metadata": {},
   "outputs": [],
   "source": [
    "import PIL\n",
    "import os\n",
    "import os.path\n",
    "from PIL import Image\n",
    "\n",
    "f = r'C:/Users/ramzy/Downloads/AB sukses'\n",
    "for file in os.listdir(f):\n",
    "    f_img = f+\"/\"+file\n",
    "    img = Image.open(f_img)\n",
    "    img = img.resize((100,100))\n",
    "    img.save(f_img)"
   ]
  },
  {
   "cell_type": "code",
   "execution_count": 3,
   "metadata": {},
   "outputs": [],
   "source": [
    "from pandas.core.indexes.range import RangeIndex"
   ]
  },
  {
   "cell_type": "code",
   "execution_count": 4,
   "metadata": {},
   "outputs": [],
   "source": [
    "import pandas as pd\n",
    "import numpy as np\n",
    "import os"
   ]
  },
  {
   "cell_type": "code",
   "execution_count": 5,
   "metadata": {},
   "outputs": [],
   "source": [
    "PC = 10\n",
    "width = 100\n",
    "formatPrint = \"PC{col}.{row}\"\n",
    "columnName = ['label']\n",
    "for i in range(PC):\n",
    " for j in range(width):\n",
    "  columnName.append(formatPrint.format(col = i+1, row = j+1))\n",
    "dataframe = pd.DataFrame(columns=columnName)\n",
    "directory = '/Users/ramzy/Downloads/AB sukses/CSV/'\n",
    "for filename in os.listdir('/Users/ramzy/Downloads/AB sukses/CSV/'):\n",
    " if filename.endswith(\".csv\"):\n",
    "  df = pd.read_csv(directory + filename, float_precision='round_trip')\n",
    "  df.pop('Unnamed: 0')\n",
    "  array = df.transpose().to_numpy().flatten()\n",
    "  label = os.path.splitext(filename)[0]\n",
    "  data = [label]\n",
    "  dd = array.tolist()\n",
    "  data = data + dd\n",
    "  dataframe.loc[len(dataframe)] = data\n",
    "dataframe.to_excel('/Users/ramzy/Downloads/AB sukses/CSV/dataset_sukses.xlsx')"
   ]
  },
  {
   "cell_type": "code",
   "execution_count": null,
   "metadata": {},
   "outputs": [],
   "source": []
  }
 ],
 "metadata": {
  "kernelspec": {
   "display_name": "Python 3",
   "language": "python",
   "name": "python3"
  },
  "language_info": {
   "codemirror_mode": {
    "name": "ipython",
    "version": 3
   },
   "file_extension": ".py",
   "mimetype": "text/x-python",
   "name": "python",
   "nbconvert_exporter": "python",
   "pygments_lexer": "ipython3",
   "version": "3.7.7"
  }
 },
 "nbformat": 4,
 "nbformat_minor": 4
}
